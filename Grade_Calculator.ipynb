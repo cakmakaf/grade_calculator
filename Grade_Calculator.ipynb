{
 "cells": [
  {
   "cell_type": "code",
   "execution_count": 25,
   "metadata": {},
   "outputs": [],
   "source": [
    "def grade_calculator(line):\n",
    "\n",
    "\n",
    "    line = line[:-1]\n",
    "\n",
    "    list = line.split(\",\")\n",
    "\n",
    "    name = list[0]\n",
    "\n",
    "    grade_1 = int(list[1])\n",
    "\n",
    "    grade_2 = int(list[2])\n",
    "\n",
    "    grade_3 = int(list[3])\n",
    "\n",
    "    final_grade = grade_1 * (25/100) + grade_2 * (25/100) + grade_3 * (50/100)\n",
    "\n",
    "    if (final_grade >= 90):\n",
    "\n",
    "        adjusted = \"AA\"\n",
    "    elif (final_grade >= 85):\n",
    "        adjusted = \"BA\"\n",
    "    elif (final_grade >= 80):\n",
    "        adjusted = \"BB\"\n",
    "    elif (final_grade >= 75):\n",
    "        adjusted = \"CB\"\n",
    "    elif (final_grade >= 70):\n",
    "        adjusted = \"CC\"\n",
    "    elif (final_grade >= 65):\n",
    "        adjusted = \"DC\"\n",
    "    elif (final_grade >= 60):\n",
    "        adjusted = \"DD\"\n",
    "    elif (final_grade >= 55):\n",
    "        adjusted = \"FD\"\n",
    "    else:\n",
    "        adjusted = \"FF\"\n",
    "\n",
    "    return name + \"-------------> \" + adjusted + \"\\n\"\n",
    "\n",
    "\n",
    "\n",
    "\n",
    "\n",
    "\n",
    "\n",
    "with open(\"gradebook.txt\",\"r\",encoding= \"utf-8\") as file:\n",
    "\n",
    "    list_of_students = []\n",
    "\n",
    "    for i in file:\n",
    "\n",
    "        list_of_students.append(grade_calculator(i))\n",
    "\n",
    "    with open(\"final_adjusted_grades.txt\",\"w\",encoding=\"utf-8\") as new_file:\n",
    "\n",
    "        for i in list_of_students:\n",
    "            new_file.write(i)\n"
   ]
  },
  {
   "cell_type": "code",
   "execution_count": null,
   "metadata": {},
   "outputs": [],
   "source": []
  }
 ],
 "metadata": {
  "kernelspec": {
   "display_name": "Python 3",
   "language": "python",
   "name": "python3"
  },
  "language_info": {
   "codemirror_mode": {
    "name": "ipython",
    "version": 3
   },
   "file_extension": ".py",
   "mimetype": "text/x-python",
   "name": "python",
   "nbconvert_exporter": "python",
   "pygments_lexer": "ipython3",
   "version": "3.6.4"
  }
 },
 "nbformat": 4,
 "nbformat_minor": 2
}
